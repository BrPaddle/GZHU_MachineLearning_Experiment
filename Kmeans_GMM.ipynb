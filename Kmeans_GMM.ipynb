{
 "cells": [
  {
   "cell_type": "markdown",
   "metadata": {},
   "source": [
    "# 一、Kmeans聚类"
   ]
  },
  {
   "cell_type": "markdown",
   "metadata": {},
   "source": [
    "## 1.处理数据"
   ]
  },
  {
   "cell_type": "code",
   "execution_count": 1,
   "metadata": {
    "ExecuteTime": {
     "end_time": "2021-12-11T09:11:46.923269Z",
     "start_time": "2021-12-11T09:11:46.272196Z"
    },
    "collapsed": true
   },
   "outputs": [],
   "source": [
    "import pandas as pd\n",
    "import numpy as np\n",
    "import matplotlib.pyplot as plt"
   ]
  },
  {
   "cell_type": "markdown",
   "metadata": {},
   "source": [
    "### 1.1 导入数据"
   ]
  },
  {
   "cell_type": "code",
   "execution_count": 2,
   "metadata": {
    "ExecuteTime": {
     "end_time": "2021-12-11T09:11:47.922880Z",
     "start_time": "2021-12-11T09:11:47.888453Z"
    },
    "scrolled": true
   },
   "outputs": [
    {
     "data": {
      "text/html": [
       "<div>\n",
       "<style>\n",
       "    .dataframe thead tr:only-child th {\n",
       "        text-align: right;\n",
       "    }\n",
       "\n",
       "    .dataframe thead th {\n",
       "        text-align: left;\n",
       "    }\n",
       "\n",
       "    .dataframe tbody tr th {\n",
       "        vertical-align: top;\n",
       "    }\n",
       "</style>\n",
       "<table border=\"1\" class=\"dataframe\">\n",
       "  <thead>\n",
       "    <tr style=\"text-align: right;\">\n",
       "      <th></th>\n",
       "      <th>SepalLengthCm</th>\n",
       "      <th>SepalWidthCm</th>\n",
       "      <th>PetalLengthCm</th>\n",
       "      <th>PetalWidthCm</th>\n",
       "      <th>Species</th>\n",
       "    </tr>\n",
       "  </thead>\n",
       "  <tbody>\n",
       "    <tr>\n",
       "      <th>0</th>\n",
       "      <td>4.9</td>\n",
       "      <td>3.0</td>\n",
       "      <td>1.4</td>\n",
       "      <td>0.2</td>\n",
       "      <td>Iris-setosa</td>\n",
       "    </tr>\n",
       "    <tr>\n",
       "      <th>1</th>\n",
       "      <td>4.7</td>\n",
       "      <td>3.2</td>\n",
       "      <td>1.3</td>\n",
       "      <td>0.2</td>\n",
       "      <td>Iris-setosa</td>\n",
       "    </tr>\n",
       "    <tr>\n",
       "      <th>2</th>\n",
       "      <td>4.6</td>\n",
       "      <td>3.1</td>\n",
       "      <td>1.5</td>\n",
       "      <td>0.2</td>\n",
       "      <td>Iris-setosa</td>\n",
       "    </tr>\n",
       "    <tr>\n",
       "      <th>3</th>\n",
       "      <td>5.0</td>\n",
       "      <td>3.6</td>\n",
       "      <td>1.4</td>\n",
       "      <td>0.2</td>\n",
       "      <td>Iris-setosa</td>\n",
       "    </tr>\n",
       "    <tr>\n",
       "      <th>4</th>\n",
       "      <td>5.4</td>\n",
       "      <td>3.9</td>\n",
       "      <td>1.7</td>\n",
       "      <td>0.4</td>\n",
       "      <td>Iris-setosa</td>\n",
       "    </tr>\n",
       "  </tbody>\n",
       "</table>\n",
       "</div>"
      ],
      "text/plain": [
       "   SepalLengthCm  SepalWidthCm  PetalLengthCm\\t  PetalWidthCm      Species\n",
       "0            4.9           3.0              1.4           0.2  Iris-setosa\n",
       "1            4.7           3.2              1.3           0.2  Iris-setosa\n",
       "2            4.6           3.1              1.5           0.2  Iris-setosa\n",
       "3            5.0           3.6              1.4           0.2  Iris-setosa\n",
       "4            5.4           3.9              1.7           0.4  Iris-setosa"
      ]
     },
     "execution_count": 2,
     "metadata": {},
     "output_type": "execute_result"
    }
   ],
   "source": [
    "data=pd.read_csv(r\"E:\\ML\\Kmeans\\iris.data\")\n",
    "data.columns=[\"SepalLengthCm\",\"SepalWidthCm\",\"PetalLengthCm\t\",\"PetalWidthCm\",\"Species\"]\n",
    "data.head()"
   ]
  },
  {
   "cell_type": "markdown",
   "metadata": {},
   "source": [
    "### 1.2 获取X数据集"
   ]
  },
  {
   "cell_type": "code",
   "execution_count": 3,
   "metadata": {
    "ExecuteTime": {
     "end_time": "2021-12-11T09:11:48.949383Z",
     "start_time": "2021-12-11T09:11:48.928438Z"
    },
    "scrolled": false
   },
   "outputs": [
    {
     "name": "stdout",
     "output_type": "stream",
     "text": [
      "float64\n",
      "float64\n",
      "float64\n",
      "float64\n",
      "object\n"
     ]
    }
   ],
   "source": [
    "for i in data.columns:\n",
    "    print(data[i].dtype)\n",
    "x_data=np.array(data.iloc[:,[0,2]]) #选取两类\n",
    "y=np.array(data[\"Species\"])\n",
    "class_label={\"Iris-virginica\":0,\"Iris-versicolor\":1,\"Iris-setosa\":2}\n",
    "for i in range(len(y)):\n",
    "    y[i]=class_label[y[i]]"
   ]
  },
  {
   "cell_type": "markdown",
   "metadata": {
    "collapsed": true
   },
   "source": [
    "# 2. 实现K-means\n",
    "1.设置簇数  \n",
    "2.随机质心  \n",
    "3.划分簇  \n",
    "4.更新质心  \n",
    "重复3.4直至收敛"
   ]
  },
  {
   "cell_type": "markdown",
   "metadata": {},
   "source": [
    "### kmeans函数模块"
   ]
  },
  {
   "cell_type": "code",
   "execution_count": 4,
   "metadata": {
    "ExecuteTime": {
     "end_time": "2021-12-11T09:11:51.214505Z",
     "start_time": "2021-12-11T09:11:51.120200Z"
    },
    "collapsed": true
   },
   "outputs": [],
   "source": [
    "def init_center(x_data,k=3):\n",
    "    '''\n",
    "    初始化质心\n",
    "    x_data:x数据集\n",
    "    k:类别数，default=3\n",
    "    返回center:k*n\n",
    "    '''\n",
    "    m,n=x_data.shape\n",
    "    center=np.random.rand(k,n)\n",
    "    center[0]=x_data[0]\n",
    "    for i in range(k-1):\n",
    "        max_num=0\n",
    "        max_id=0\n",
    "        for j in range(m):\n",
    "            if(dist(x_data[j],center[i])>max_num):\n",
    "                max_id=j\n",
    "                max_num=dist(x_data[j],center[i-1])\n",
    "        center[i+1]=x_data[max_id]    \n",
    "    return center\n",
    "\n",
    "def dist(x,y):\n",
    "    '''\n",
    "    计算x和y的欧氏距离\n",
    "    '''\n",
    "    return ((x-y)**2).sum()**0.5\n",
    "\n",
    "def class_divide(x_data,center,k=3):\n",
    "    '''\n",
    "    划分簇类\n",
    "    x_data:数据集\n",
    "    center:当前质心\n",
    "    返回:classify x数据集对应的簇类\n",
    "    '''\n",
    "    m,n=x_data.shape\n",
    "    classify=np.zeros(m).astype(int) \n",
    "    for i in range(m):\n",
    "        Dist=np.zeros(k)\n",
    "        for j in range(center.shape[0]):\n",
    "            Dist[j]=dist(x_data[i],center[j])\n",
    "        classify[i]=np.argmin(Dist)\n",
    "    return classify\n",
    "\n",
    "def update_center(x_data,classify,k=3):\n",
    "    '''\n",
    "    对当前划分的簇类进行一次质心更新\n",
    "    x_data:数据集\n",
    "    classify:分类结果\n",
    "    返回：更新后的质心\n",
    "    '''\n",
    "    m,n=x_data.shape\n",
    "    center=np.random.rand(k,n)\n",
    "    num=np.ones(k)\n",
    "    for i in range(m):\n",
    "        k_class=classify[i]\n",
    "        num[k_class]+=1\n",
    "        center[k_class]+=x_data[i]\n",
    "    for i in range(k):\n",
    "        center[i]/=num[i]\n",
    "    return center"
   ]
  },
  {
   "cell_type": "markdown",
   "metadata": {},
   "source": [
    "### kmeans函数"
   ]
  },
  {
   "cell_type": "code",
   "execution_count": 6,
   "metadata": {
    "ExecuteTime": {
     "end_time": "2021-12-11T09:12:51.909111Z",
     "start_time": "2021-12-11T09:12:51.890888Z"
    },
    "collapsed": true
   },
   "outputs": [],
   "source": [
    "def Kmeans(x_data,echo,k=3):\n",
    "    center=init_center(x_data,k)\n",
    "    for i in range(echo):\n",
    "        classify=class_divide(x_data,center,k)\n",
    "        center=update_center(x_data,classify,k)\n",
    "    return classify,center"
   ]
  },
  {
   "cell_type": "markdown",
   "metadata": {},
   "source": [
    "# 3. 测试"
   ]
  },
  {
   "cell_type": "code",
   "execution_count": 24,
   "metadata": {
    "ExecuteTime": {
     "end_time": "2021-12-11T09:15:44.522652Z",
     "start_time": "2021-12-11T09:15:44.466248Z"
    }
   },
   "outputs": [
    {
     "name": "stdout",
     "output_type": "stream",
     "text": [
      "Kmeans聚类：\n"
     ]
    },
    {
     "data": {
      "text/plain": [
       "array([0, 0, 0, 0, 0, 0, 0, 0, 0, 0, 0, 0, 0, 0, 0, 0, 0, 0, 0, 0, 0, 0,\n",
       "       0, 0, 0, 0, 0, 0, 0, 0, 0, 0, 0, 0, 0, 0, 0, 0, 0, 0, 0, 0, 0, 0,\n",
       "       0, 0, 0, 0, 0, 2, 2, 1, 4, 2, 4, 2, 4, 2, 4, 4, 4, 4, 2, 4, 2, 4,\n",
       "       4, 2, 4, 2, 2, 2, 2, 2, 2, 2, 1, 2, 4, 4, 4, 4, 2, 4, 2, 2, 2, 4,\n",
       "       4, 4, 2, 4, 4, 4, 4, 4, 2, 4, 4, 1, 2, 1, 1, 1, 1, 4, 1, 1, 1, 1,\n",
       "       1, 1, 2, 2, 1, 1, 1, 1, 2, 1, 2, 1, 2, 1, 1, 2, 2, 1, 1, 1, 1, 1,\n",
       "       2, 1, 1, 1, 1, 2, 1, 1, 1, 2, 1, 1, 1, 2, 1, 1, 2])"
      ]
     },
     "execution_count": 24,
     "metadata": {},
     "output_type": "execute_result"
    }
   ],
   "source": [
    "echo=10         # 迭代次数\n",
    "k=3             # 簇数\n",
    "km_cluster,center=Kmeans(x_data,echo=3,k=5)\n",
    "print(\"Kmeans聚类：\")\n",
    "km_cluster"
   ]
  },
  {
   "cell_type": "markdown",
   "metadata": {
    "ExecuteTime": {
     "end_time": "2021-12-05T15:28:29.702544Z",
     "start_time": "2021-12-05T15:28:29.688609Z"
    }
   },
   "source": [
    "### 绘制预测簇类图"
   ]
  },
  {
   "cell_type": "code",
   "execution_count": 25,
   "metadata": {
    "ExecuteTime": {
     "end_time": "2021-12-11T09:15:46.836206Z",
     "start_time": "2021-12-11T09:15:46.531584Z"
    }
   },
   "outputs": [
    {
     "data": {
      "image/png": "[encoded data removed]",
      "text/plain": [
       "<matplotlib.figure.Figure at 0x2767d50bba8>"
      ]
     },
     "metadata": {},
     "output_type": "display_data"
    },
    {
     "data": {
      "image/png": "[encoded data removed]",
      "text/plain": [
       "<matplotlib.figure.Figure at 0x2767d0fcbe0>"
      ]
     },
     "metadata": {},
     "output_type": "display_data"
    }
   ],
   "source": [
    "plt.scatter(x_data[:,0],x_data[:,1],c=15*y)\n",
    "plt.title(\"True\")\n",
    "plt.show()\n",
    "\n",
    "plt.scatter(x_data[:,0],x_data[:,1],c=15*km_cluster)\n",
    "plt.title(\"Kmeans\")\n",
    "plt.show()"
   ]
  },
  {
   "cell_type": "markdown",
   "metadata": {
    "collapsed": true
   },
   "source": [
    "# 二、GMM聚类"
   ]
  },
  {
   "cell_type": "markdown",
   "metadata": {},
   "source": [
    "## 1. 数据处理\n",
    "### 1.1 导入数据"
   ]
  },
  {
   "cell_type": "code",
   "execution_count": 164,
   "metadata": {
    "ExecuteTime": {
     "end_time": "2021-12-09T08:34:34.129472Z",
     "start_time": "2021-12-09T08:34:34.116508Z"
    },
    "collapsed": true
   },
   "outputs": [],
   "source": [
    "import pandas as pd\n",
    "import numpy as np\n",
    "import matplotlib.pyplot as plt"
   ]
  },
  {
   "cell_type": "code",
   "execution_count": 165,
   "metadata": {
    "ExecuteTime": {
     "end_time": "2021-12-09T08:34:34.655877Z",
     "start_time": "2021-12-09T08:34:34.625959Z"
    },
    "scrolled": false
   },
   "outputs": [
    {
     "data": {
      "text/html": [
       "<div>\n",
       "<style>\n",
       "    .dataframe thead tr:only-child th {\n",
       "        text-align: right;\n",
       "    }\n",
       "\n",
       "    .dataframe thead th {\n",
       "        text-align: left;\n",
       "    }\n",
       "\n",
       "    .dataframe tbody tr th {\n",
       "        vertical-align: top;\n",
       "    }\n",
       "</style>\n",
       "<table border=\"1\" class=\"dataframe\">\n",
       "  <thead>\n",
       "    <tr style=\"text-align: right;\">\n",
       "      <th></th>\n",
       "      <th>SepalLengthCm</th>\n",
       "      <th>SepalWidthCm</th>\n",
       "      <th>PetalLengthCm</th>\n",
       "      <th>PetalWidthCm</th>\n",
       "      <th>Species</th>\n",
       "    </tr>\n",
       "  </thead>\n",
       "  <tbody>\n",
       "    <tr>\n",
       "      <th>0</th>\n",
       "      <td>4.9</td>\n",
       "      <td>3.0</td>\n",
       "      <td>1.4</td>\n",
       "      <td>0.2</td>\n",
       "      <td>Iris-setosa</td>\n",
       "    </tr>\n",
       "    <tr>\n",
       "      <th>1</th>\n",
       "      <td>4.7</td>\n",
       "      <td>3.2</td>\n",
       "      <td>1.3</td>\n",
       "      <td>0.2</td>\n",
       "      <td>Iris-setosa</td>\n",
       "    </tr>\n",
       "    <tr>\n",
       "      <th>2</th>\n",
       "      <td>4.6</td>\n",
       "      <td>3.1</td>\n",
       "      <td>1.5</td>\n",
       "      <td>0.2</td>\n",
       "      <td>Iris-setosa</td>\n",
       "    </tr>\n",
       "    <tr>\n",
       "      <th>3</th>\n",
       "      <td>5.0</td>\n",
       "      <td>3.6</td>\n",
       "      <td>1.4</td>\n",
       "      <td>0.2</td>\n",
       "      <td>Iris-setosa</td>\n",
       "    </tr>\n",
       "    <tr>\n",
       "      <th>4</th>\n",
       "      <td>5.4</td>\n",
       "      <td>3.9</td>\n",
       "      <td>1.7</td>\n",
       "      <td>0.4</td>\n",
       "      <td>Iris-setosa</td>\n",
       "    </tr>\n",
       "  </tbody>\n",
       "</table>\n",
       "</div>"
      ],
      "text/plain": [
       "   SepalLengthCm  SepalWidthCm  PetalLengthCm\\t  PetalWidthCm      Species\n",
       "0            4.9           3.0              1.4           0.2  Iris-setosa\n",
       "1            4.7           3.2              1.3           0.2  Iris-setosa\n",
       "2            4.6           3.1              1.5           0.2  Iris-setosa\n",
       "3            5.0           3.6              1.4           0.2  Iris-setosa\n",
       "4            5.4           3.9              1.7           0.4  Iris-setosa"
      ]
     },
     "execution_count": 165,
     "metadata": {},
     "output_type": "execute_result"
    }
   ],
   "source": [
    "data=pd.read_csv(r\"E:\\ML\\Kmeans\\iris.data\")\n",
    "data.columns=[\"SepalLengthCm\",\"SepalWidthCm\",\"PetalLengthCm\t\",\"PetalWidthCm\",\"Species\"]\n",
    "data.head()"
   ]
  },
  {
   "cell_type": "markdown",
   "metadata": {},
   "source": [
    "### 1.2 获取x数据集\n",
    "注：实验要求使用SepalLength，SepalWidth作为分类依据"
   ]
  },
  {
   "cell_type": "code",
   "execution_count": 166,
   "metadata": {
    "ExecuteTime": {
     "end_time": "2021-12-09T08:34:35.624688Z",
     "start_time": "2021-12-09T08:34:35.611751Z"
    },
    "collapsed": true
   },
   "outputs": [],
   "source": [
    "x_data=np.array(data.iloc[:,[0,2]])\n",
    "y=np.array(data[\"Species\"])\n",
    "class_label={\"Iris-virginica\":0,\"Iris-versicolor\":1,\"Iris-setosa\":2}\n",
    "for i in range(len(y)):\n",
    "    y[i]=class_label[y[i]]"
   ]
  },
  {
   "cell_type": "markdown",
   "metadata": {},
   "source": [
    "## 2.GMM"
   ]
  },
  {
   "cell_type": "markdown",
   "metadata": {},
   "source": [
    "### 2.1 GMM函数模块"
   ]
  },
  {
   "cell_type": "code",
   "execution_count": 171,
   "metadata": {
    "ExecuteTime": {
     "end_time": "2021-12-09T08:35:10.208731Z",
     "start_time": "2021-12-09T08:35:09.914432Z"
    },
    "collapsed": true
   },
   "outputs": [],
   "source": [
    "from scipy.stats import multivariate_normal\n",
    "N=multivariate_normal.pdf #混合高斯分布函数\n",
    "\n",
    "def initialize(x_data,k=3):                       #随机初始化参数\n",
    "    '''\n",
    "    函数初始化；\n",
    "    输入：x：维度；k：簇类数\n",
    "    返回：yk:类概率。means：各高斯分布的均值向量。cov：各高斯分布协方差矩阵。\n",
    "    '''\n",
    "    _,n=x_data.shape\n",
    "    yk=np.random.dirichlet(np.zeros(k))# 随机动初始化\n",
    "    means=np.random.rand(k,n)\n",
    "    cov=np.random.randn(k,n,n)\n",
    "    cov[0]=np.array([[1.0,0.0],[0.0,2.0]])#手动初始化\n",
    "    cov[1]=np.array([[2.0,0.0],[0.0,1.0]])\n",
    "    cov[2]=np.array([[1.5,0.0],[0.0,1.0]])\n",
    "    return yk,means,cov\n",
    "\n",
    "def KM_init(x_data,km_label,k=3):                       #利用Kmeans初始化参数\n",
    "    m,n=x_data.shape\n",
    "    yk=np.zeros(k)\n",
    "    means=np.random.rand(k,n)\n",
    "    cov=np.random.randn(k,n,n)\n",
    "    cluster={key:[] for key in range(k)}\n",
    "    for index,i in enumerate(x_data):\n",
    "         cluster[km_label[index]].append(i)\n",
    "    for index in range(k):\n",
    "        k_cluster=np.array(cluster[index])\n",
    "        yk[index]=k_cluster.shape[0]/m\n",
    "        means[index]=k_cluster.mean(axis=0)\n",
    "        cov[index]=np.cov(k_cluster.reshape(n,-1))\n",
    "    return yk,means,cov\n",
    "\n",
    "def E_step(x_data,yk,means,cov,k=3):         #E步\n",
    "    '''\n",
    "    根据已知参数求rk。rk：k对观测数据xj响应度\n",
    "    rk是一个m*k的矩阵，（i，k）表示k簇对样本i响应度\n",
    "    '''\n",
    "    m,n=x_data.shape\n",
    "    r_k=np.random.rand(m,k)\n",
    "    for i in range(m):\n",
    "        for j in range(k):\n",
    "            r_k[i][j]=yk[j]*N(x_data[i],mean=means[j],cov=cov[j])\n",
    "        r_k[i]=r_k[i]/r_k[i].sum()\n",
    "    return r_k\n",
    "\n",
    "def M_step(x_data,r_k,k=3):                 #M步\n",
    "    '''\n",
    "    根据E步返回rk更新参数。\n",
    "    代入更新公式即可\n",
    "    '''\n",
    "    m,n=x_data.shape\n",
    "    yk=np.zeros(k)\n",
    "    means=np.zeros(k*n).reshape(k,n)\n",
    "    cov=np.zeros(k*n*n).reshape(k,n,n)\n",
    "    Nk=r_k.sum(axis=0)\n",
    "    for i in range(k):\n",
    "        for j in range(m):\n",
    "            means[i]+=r_k[j][i]*x_data[j]\n",
    "        means[i]=means[i]/Nk[i]\n",
    "    for i in range(k):\n",
    "        for j in range(m):\n",
    "            cov[i]+=r_k[j][i]*np.dot((x_data[j]-means[i]).reshape(-1,1),(x_data[j]-means[i]).reshape(1,-1))\n",
    "        cov[i]=cov[i]/Nk[i]\n",
    "    yk=Nk/m\n",
    "    return yk,means,cov\n",
    "\n",
    "def get_cluster(rk): # 获得真实的分类\n",
    "    m=rk.shape[0]\n",
    "    classify=np.zeros(m)\n",
    "    for i in range(m):\n",
    "        classify[i]=np.argmax(rk[i])\n",
    "    return classify"
   ]
  },
  {
   "cell_type": "markdown",
   "metadata": {
    "ExecuteTime": {
     "end_time": "2021-12-09T05:36:46.134795Z",
     "start_time": "2021-12-09T05:36:46.120570Z"
    }
   },
   "source": [
    "## 2.2 GMM函数"
   ]
  },
  {
   "cell_type": "code",
   "execution_count": 172,
   "metadata": {
    "ExecuteTime": {
     "end_time": "2021-12-09T08:35:10.921790Z",
     "start_time": "2021-12-09T08:35:10.900462Z"
    },
    "collapsed": true
   },
   "outputs": [],
   "source": [
    "def Gmm(x_data,echo=10,k=3):\n",
    "    yk,means,cov=KM_init(x_data,km_cluster)\n",
    "    for i in range(echo):\n",
    "        rk=E_step(x_data,yk,means,cov)\n",
    "        yk,means,cov=M_step(x_data,rk)\n",
    "    return rk,yk,means,cov"
   ]
  },
  {
   "cell_type": "markdown",
   "metadata": {},
   "source": [
    "## 2.3 聚类并绘制簇类图"
   ]
  },
  {
   "cell_type": "code",
   "execution_count": 177,
   "metadata": {
    "ExecuteTime": {
     "end_time": "2021-12-09T08:36:46.345087Z",
     "start_time": "2021-12-09T08:36:45.451847Z"
    },
    "scrolled": true
   },
   "outputs": [
    {
     "name": "stdout",
     "output_type": "stream",
     "text": [
      "GMM聚类：\n"
     ]
    },
    {
     "data": {
      "text/plain": [
       "array([0., 0., 0., 0., 0., 0., 0., 0., 0., 0., 0., 0., 0., 0., 0., 0., 0.,\n",
       "       0., 0., 0., 0., 0., 0., 0., 0., 0., 0., 0., 0., 0., 0., 0., 0., 0.,\n",
       "       0., 0., 0., 0., 0., 0., 0., 0., 0., 0., 0., 0., 0., 0., 0., 2., 2.,\n",
       "       2., 2., 2., 2., 2., 2., 2., 2., 2., 2., 2., 2., 2., 2., 2., 2., 2.,\n",
       "       2., 2., 2., 2., 2., 2., 2., 2., 2., 2., 2., 2., 2., 2., 1., 1., 2.,\n",
       "       2., 2., 2., 2., 2., 2., 2., 2., 2., 2., 2., 2., 2., 2., 1., 1., 1.,\n",
       "       1., 1., 1., 1., 1., 1., 1., 2., 1., 1., 1., 1., 1., 1., 1., 1., 1.,\n",
       "       1., 1., 1., 2., 1., 1., 2., 2., 1., 1., 1., 1., 1., 1., 1., 1., 1.,\n",
       "       1., 2., 2., 1., 2., 1., 1., 1., 2., 2., 2., 1., 1.])"
      ]
     },
     "execution_count": 177,
     "metadata": {},
     "output_type": "execute_result"
    }
   ],
   "source": [
    "rk,yk,means,cov=Gmm(x_data)\n",
    "gmm_cluster=get_cluster(rk)\n",
    "print(\"GMM聚类：\")\n",
    "gmm_cluster"
   ]
  },
  {
   "cell_type": "code",
   "execution_count": 174,
   "metadata": {
    "ExecuteTime": {
     "end_time": "2021-12-09T08:35:13.065332Z",
     "start_time": "2021-12-09T08:35:12.684959Z"
    }
   },
   "outputs": [
    {
     "data": {
      "image/png": "[encoded data removed]",
      "text/plain": [
       "<matplotlib.figure.Figure at 0x20d43fa02b0>"
      ]
     },
     "metadata": {},
     "output_type": "display_data"
    },
    {
     "data": {
      "image/png": "[encoded data removed]",
      "text/plain": [
       "<matplotlib.figure.Figure at 0x20d454667f0>"
      ]
     },
     "metadata": {},
     "output_type": "display_data"
    }
   ],
   "source": [
    "plt.scatter(x_data[:,0],x_data[:,1],c=15*y)\n",
    "plt.title(\"True\")\n",
    "plt.show()\n",
    "\n",
    "plt.scatter(x_data[:,0],x_data[:,1],c=15*gmm_cluster)\n",
    "plt.title(\"GMM\")\n",
    "plt.show()"
   ]
  },
  {
   "cell_type": "code",
   "execution_count": null,
   "metadata": {
    "collapsed": true
   },
   "outputs": [],
   "source": []
  }
 ],
 "metadata": {
  "kernelspec": {
   "display_name": "py3.6",
   "language": "python",
   "name": "py3.6"
  },
  "language_info": {
   "codemirror_mode": {
    "name": "ipython",
    "version": 3
   },
   "file_extension": ".py",
   "mimetype": "text/x-python",
   "name": "python",
   "nbconvert_exporter": "python",
   "pygments_lexer": "ipython3",
   "version": "3.6.2"
  }
 },
 "nbformat": 4,
 "nbformat_minor": 2
}
