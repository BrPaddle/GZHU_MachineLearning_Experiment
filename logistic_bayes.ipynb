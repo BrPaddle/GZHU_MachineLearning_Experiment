{
 "cells": [
  {
   "cell_type": "markdown",
   "metadata": {},
   "source": [
    "# 一、逻辑回归"
   ]
  },
  {
   "cell_type": "markdown",
   "metadata": {},
   "source": [
    "# 1 处理数据"
   ]
  },
  {
   "cell_type": "markdown",
   "metadata": {},
   "source": [
    "### 1.1 导入数据"
   ]
  },
  {
   "cell_type": "code",
   "execution_count": 1,
   "metadata": {
    "ExecuteTime": {
     "end_time": "2021-12-02T06:08:01.296058Z",
     "start_time": "2021-12-02T06:07:55.603006Z"
    },
    "scrolled": false
   },
   "outputs": [
    {
     "data": {
      "text/html": [
       "<div>\n",
       "<style>\n",
       "    .dataframe thead tr:only-child th {\n",
       "        text-align: right;\n",
       "    }\n",
       "\n",
       "    .dataframe thead th {\n",
       "        text-align: left;\n",
       "    }\n",
       "\n",
       "    .dataframe tbody tr th {\n",
       "        vertical-align: top;\n",
       "    }\n",
       "</style>\n",
       "<table border=\"1\" class=\"dataframe\">\n",
       "  <thead>\n",
       "    <tr style=\"text-align: right;\">\n",
       "      <th></th>\n",
       "      <th>age</th>\n",
       "      <th>workclass</th>\n",
       "      <th>fnlwgt</th>\n",
       "      <th>education</th>\n",
       "      <th>education_num</th>\n",
       "      <th>marital-status</th>\n",
       "      <th>occupation</th>\n",
       "      <th>relationship</th>\n",
       "      <th>race</th>\n",
       "      <th>sex</th>\n",
       "      <th>capital-gain</th>\n",
       "      <th>capital-loss</th>\n",
       "      <th>hours-per-week</th>\n",
       "      <th>native-country</th>\n",
       "      <th>income</th>\n",
       "    </tr>\n",
       "  </thead>\n",
       "  <tbody>\n",
       "    <tr>\n",
       "      <th>0</th>\n",
       "      <td>39</td>\n",
       "      <td>State-gov</td>\n",
       "      <td>77516</td>\n",
       "      <td>Bachelors</td>\n",
       "      <td>13</td>\n",
       "      <td>Never-married</td>\n",
       "      <td>Adm-clerical</td>\n",
       "      <td>Not-in-family</td>\n",
       "      <td>White</td>\n",
       "      <td>Male</td>\n",
       "      <td>2174</td>\n",
       "      <td>0</td>\n",
       "      <td>40</td>\n",
       "      <td>United-States</td>\n",
       "      <td>&lt;=50K</td>\n",
       "    </tr>\n",
       "    <tr>\n",
       "      <th>1</th>\n",
       "      <td>50</td>\n",
       "      <td>Self-emp-not-inc</td>\n",
       "      <td>83311</td>\n",
       "      <td>Bachelors</td>\n",
       "      <td>13</td>\n",
       "      <td>Married-civ-spouse</td>\n",
       "      <td>Exec-managerial</td>\n",
       "      <td>Husband</td>\n",
       "      <td>White</td>\n",
       "      <td>Male</td>\n",
       "      <td>0</td>\n",
       "      <td>0</td>\n",
       "      <td>13</td>\n",
       "      <td>United-States</td>\n",
       "      <td>&lt;=50K</td>\n",
       "    </tr>\n",
       "    <tr>\n",
       "      <th>2</th>\n",
       "      <td>38</td>\n",
       "      <td>Private</td>\n",
       "      <td>215646</td>\n",
       "      <td>HS-grad</td>\n",
       "      <td>9</td>\n",
       "      <td>Divorced</td>\n",
       "      <td>Handlers-cleaners</td>\n",
       "      <td>Not-in-family</td>\n",
       "      <td>White</td>\n",
       "      <td>Male</td>\n",
       "      <td>0</td>\n",
       "      <td>0</td>\n",
       "      <td>40</td>\n",
       "      <td>United-States</td>\n",
       "      <td>&lt;=50K</td>\n",
       "    </tr>\n",
       "    <tr>\n",
       "      <th>3</th>\n",
       "      <td>53</td>\n",
       "      <td>Private</td>\n",
       "      <td>234721</td>\n",
       "      <td>11th</td>\n",
       "      <td>7</td>\n",
       "      <td>Married-civ-spouse</td>\n",
       "      <td>Handlers-cleaners</td>\n",
       "      <td>Husband</td>\n",
       "      <td>Black</td>\n",
       "      <td>Male</td>\n",
       "      <td>0</td>\n",
       "      <td>0</td>\n",
       "      <td>40</td>\n",
       "      <td>United-States</td>\n",
       "      <td>&lt;=50K</td>\n",
       "    </tr>\n",
       "    <tr>\n",
       "      <th>4</th>\n",
       "      <td>28</td>\n",
       "      <td>Private</td>\n",
       "      <td>338409</td>\n",
       "      <td>Bachelors</td>\n",
       "      <td>13</td>\n",
       "      <td>Married-civ-spouse</td>\n",
       "      <td>Prof-specialty</td>\n",
       "      <td>Wife</td>\n",
       "      <td>Black</td>\n",
       "      <td>Female</td>\n",
       "      <td>0</td>\n",
       "      <td>0</td>\n",
       "      <td>40</td>\n",
       "      <td>Cuba</td>\n",
       "      <td>&lt;=50K</td>\n",
       "    </tr>\n",
       "  </tbody>\n",
       "</table>\n",
       "</div>"
      ],
      "text/plain": [
       "   age          workclass  fnlwgt   education  education_num  \\\n",
       "0   39          State-gov   77516   Bachelors             13   \n",
       "1   50   Self-emp-not-inc   83311   Bachelors             13   \n",
       "2   38            Private  215646     HS-grad              9   \n",
       "3   53            Private  234721        11th              7   \n",
       "4   28            Private  338409   Bachelors             13   \n",
       "\n",
       "        marital-status          occupation    relationship    race      sex  \\\n",
       "0        Never-married        Adm-clerical   Not-in-family   White     Male   \n",
       "1   Married-civ-spouse     Exec-managerial         Husband   White     Male   \n",
       "2             Divorced   Handlers-cleaners   Not-in-family   White     Male   \n",
       "3   Married-civ-spouse   Handlers-cleaners         Husband   Black     Male   \n",
       "4   Married-civ-spouse      Prof-specialty            Wife   Black   Female   \n",
       "\n",
       "   capital-gain  capital-loss  hours-per-week  native-country  income  \n",
       "0          2174             0              40   United-States   <=50K  \n",
       "1             0             0              13   United-States   <=50K  \n",
       "2             0             0              40   United-States   <=50K  \n",
       "3             0             0              40   United-States   <=50K  \n",
       "4             0             0              40            Cuba   <=50K  "
      ]
     },
     "execution_count": 1,
     "metadata": {},
     "output_type": "execute_result"
    }
   ],
   "source": [
    "import pandas as pd\n",
    "import numpy as np\n",
    "train=pd.read_csv(r\"E:/ML/logistic/adult.data\",header=None,na_values=' ?')\n",
    "test=pd.read_csv(r\"E:/ML/logistic/adult.test\",header=None,na_values=' ?')\n",
    "name=['age','workclass','fnlwgt','education','education_num','marital-status','occupation','relationship','race','sex','capital-gain','capital-loss','hours-per-week','native-country',\"income\"]\n",
    "train.columns=name\n",
    "test.columns=name\n",
    "train.head()"
   ]
  },
  {
   "cell_type": "markdown",
   "metadata": {},
   "source": [
    "### 1.2 处理缺失值（删除）"
   ]
  },
  {
   "cell_type": "code",
   "execution_count": 2,
   "metadata": {
    "ExecuteTime": {
     "end_time": "2021-12-01T09:23:42.850489Z",
     "start_time": "2021-12-01T09:23:42.742938Z"
    },
    "collapsed": true,
    "scrolled": true
   },
   "outputs": [],
   "source": [
    "#查看空值行概览\n",
    "test.isnull().sum()\n",
    "train.isnull().sum()\n",
    "#查看空值行的信息\n",
    "test[(test['occupation'].isnull().values==True)|(test['workclass'].isnull().values==True)|(test['native-country'].isnull().values==True)]\n",
    "train[(train['occupation'].isnull().values==True)|(train['workclass'].isnull().values==True)|(train['native-country'].isnull().values==True)]\n",
    "test = test.reset_index(drop=True)\n",
    "train = train.reset_index(drop=True)\n",
    "#删除空值行\n",
    "test=test.dropna(axis=0)\n",
    "train=train.dropna(axis=0)"
   ]
  },
  {
   "cell_type": "markdown",
   "metadata": {},
   "source": [
    "### 1.3 分离并处理X，Y"
   ]
  },
  {
   "cell_type": "code",
   "execution_count": 3,
   "metadata": {
    "ExecuteTime": {
     "end_time": "2021-12-01T09:23:43.572283Z",
     "start_time": "2021-12-01T09:23:43.522445Z"
    }
   },
   "outputs": [
    {
     "data": {
      "text/plain": [
       "array([0, 0, 1, ..., 0, 0, 1])"
      ]
     },
     "execution_count": 3,
     "metadata": {},
     "output_type": "execute_result"
    }
   ],
   "source": [
    "Y_train=train[\"income\"]   \n",
    "Y_train=np.where(Y_train==' >50K',1,0)         #Y训练集  \n",
    "X_train=train.drop('income',axis=1)           #X_训练集 \n",
    "Y_test=test[\"income\"]\n",
    "Y_test=np.where(Y_test==' >50K.',1,0)           #Y测试集\n",
    "X_test=test.drop('income',axis=1)\n",
    "Y_test"
   ]
  },
  {
   "cell_type": "markdown",
   "metadata": {},
   "source": [
    "###  1.4类别型变量生成哑变量（onehotencode）"
   ]
  },
  {
   "cell_type": "markdown",
   "metadata": {},
   "source": [
    "#### 因为pandas.get_dummies函数的原因，对训练集、测试集分开生成哑变量会出现问题。有类型在训练集出现却并未在测试集出现.因此需要先将X训练集和测试集合并，生成哑变量后再分离"
   ]
  },
  {
   "cell_type": "code",
   "execution_count": 4,
   "metadata": {
    "ExecuteTime": {
     "end_time": "2021-12-01T09:23:44.716224Z",
     "start_time": "2021-12-01T09:23:44.554817Z"
    },
    "collapsed": true
   },
   "outputs": [],
   "source": [
    "X_temp=pd.concat([X_train,X_test],axis=0)      #X测试集  \n",
    "L=X_train.shape[0]\n",
    "#pd.get_dummies(X_train,columns=['workclass','education','marital-status','occupation','relationship','race','sex','native-country'])\n",
    "X_temp=np.array(pd.get_dummies(X_temp))\n",
    "X_train=X_temp[0:L]                         \n",
    "X_test=X_temp[L:]               "
   ]
  },
  {
   "cell_type": "markdown",
   "metadata": {},
   "source": [
    "### 1.5 最小最大归一"
   ]
  },
  {
   "cell_type": "code",
   "execution_count": 5,
   "metadata": {
    "ExecuteTime": {
     "end_time": "2021-12-01T09:23:46.725265Z",
     "start_time": "2021-12-01T09:23:45.551878Z"
    },
    "scrolled": false
   },
   "outputs": [
    {
     "data": {
      "text/html": [
       "<div>\n",
       "<style>\n",
       "    .dataframe thead tr:only-child th {\n",
       "        text-align: right;\n",
       "    }\n",
       "\n",
       "    .dataframe thead th {\n",
       "        text-align: left;\n",
       "    }\n",
       "\n",
       "    .dataframe tbody tr th {\n",
       "        vertical-align: top;\n",
       "    }\n",
       "</style>\n",
       "<table border=\"1\" class=\"dataframe\">\n",
       "  <thead>\n",
       "    <tr style=\"text-align: right;\">\n",
       "      <th></th>\n",
       "      <th>0</th>\n",
       "      <th>1</th>\n",
       "      <th>2</th>\n",
       "      <th>3</th>\n",
       "      <th>4</th>\n",
       "      <th>5</th>\n",
       "      <th>6</th>\n",
       "      <th>7</th>\n",
       "      <th>8</th>\n",
       "      <th>9</th>\n",
       "      <th>...</th>\n",
       "      <th>94</th>\n",
       "      <th>95</th>\n",
       "      <th>96</th>\n",
       "      <th>97</th>\n",
       "      <th>98</th>\n",
       "      <th>99</th>\n",
       "      <th>100</th>\n",
       "      <th>101</th>\n",
       "      <th>102</th>\n",
       "      <th>103</th>\n",
       "    </tr>\n",
       "  </thead>\n",
       "  <tbody>\n",
       "    <tr>\n",
       "      <th>0</th>\n",
       "      <td>0.301370</td>\n",
       "      <td>0.043338</td>\n",
       "      <td>0.800000</td>\n",
       "      <td>0.02174</td>\n",
       "      <td>0.0</td>\n",
       "      <td>0.397959</td>\n",
       "      <td>0.0</td>\n",
       "      <td>0.0</td>\n",
       "      <td>0.0</td>\n",
       "      <td>0.0</td>\n",
       "      <td>...</td>\n",
       "      <td>0.0</td>\n",
       "      <td>0.0</td>\n",
       "      <td>0.0</td>\n",
       "      <td>0.0</td>\n",
       "      <td>0.0</td>\n",
       "      <td>0.0</td>\n",
       "      <td>0.0</td>\n",
       "      <td>1.0</td>\n",
       "      <td>0.0</td>\n",
       "      <td>0.0</td>\n",
       "    </tr>\n",
       "    <tr>\n",
       "      <th>1</th>\n",
       "      <td>0.452055</td>\n",
       "      <td>0.047277</td>\n",
       "      <td>0.800000</td>\n",
       "      <td>0.00000</td>\n",
       "      <td>0.0</td>\n",
       "      <td>0.122449</td>\n",
       "      <td>0.0</td>\n",
       "      <td>0.0</td>\n",
       "      <td>0.0</td>\n",
       "      <td>0.0</td>\n",
       "      <td>...</td>\n",
       "      <td>0.0</td>\n",
       "      <td>0.0</td>\n",
       "      <td>0.0</td>\n",
       "      <td>0.0</td>\n",
       "      <td>0.0</td>\n",
       "      <td>0.0</td>\n",
       "      <td>0.0</td>\n",
       "      <td>1.0</td>\n",
       "      <td>0.0</td>\n",
       "      <td>0.0</td>\n",
       "    </tr>\n",
       "    <tr>\n",
       "      <th>2</th>\n",
       "      <td>0.287671</td>\n",
       "      <td>0.137244</td>\n",
       "      <td>0.533333</td>\n",
       "      <td>0.00000</td>\n",
       "      <td>0.0</td>\n",
       "      <td>0.397959</td>\n",
       "      <td>0.0</td>\n",
       "      <td>0.0</td>\n",
       "      <td>1.0</td>\n",
       "      <td>0.0</td>\n",
       "      <td>...</td>\n",
       "      <td>0.0</td>\n",
       "      <td>0.0</td>\n",
       "      <td>0.0</td>\n",
       "      <td>0.0</td>\n",
       "      <td>0.0</td>\n",
       "      <td>0.0</td>\n",
       "      <td>0.0</td>\n",
       "      <td>1.0</td>\n",
       "      <td>0.0</td>\n",
       "      <td>0.0</td>\n",
       "    </tr>\n",
       "    <tr>\n",
       "      <th>3</th>\n",
       "      <td>0.493151</td>\n",
       "      <td>0.150212</td>\n",
       "      <td>0.400000</td>\n",
       "      <td>0.00000</td>\n",
       "      <td>0.0</td>\n",
       "      <td>0.397959</td>\n",
       "      <td>0.0</td>\n",
       "      <td>0.0</td>\n",
       "      <td>1.0</td>\n",
       "      <td>0.0</td>\n",
       "      <td>...</td>\n",
       "      <td>0.0</td>\n",
       "      <td>0.0</td>\n",
       "      <td>0.0</td>\n",
       "      <td>0.0</td>\n",
       "      <td>0.0</td>\n",
       "      <td>0.0</td>\n",
       "      <td>0.0</td>\n",
       "      <td>1.0</td>\n",
       "      <td>0.0</td>\n",
       "      <td>0.0</td>\n",
       "    </tr>\n",
       "    <tr>\n",
       "      <th>4</th>\n",
       "      <td>0.150685</td>\n",
       "      <td>0.220703</td>\n",
       "      <td>0.800000</td>\n",
       "      <td>0.00000</td>\n",
       "      <td>0.0</td>\n",
       "      <td>0.397959</td>\n",
       "      <td>0.0</td>\n",
       "      <td>0.0</td>\n",
       "      <td>1.0</td>\n",
       "      <td>0.0</td>\n",
       "      <td>...</td>\n",
       "      <td>0.0</td>\n",
       "      <td>0.0</td>\n",
       "      <td>0.0</td>\n",
       "      <td>0.0</td>\n",
       "      <td>0.0</td>\n",
       "      <td>0.0</td>\n",
       "      <td>0.0</td>\n",
       "      <td>0.0</td>\n",
       "      <td>0.0</td>\n",
       "      <td>0.0</td>\n",
       "    </tr>\n",
       "  </tbody>\n",
       "</table>\n",
       "<p>5 rows × 104 columns</p>\n",
       "</div>"
      ],
      "text/plain": [
       "        0         1         2        3    4         5    6    7    8    9    \\\n",
       "0  0.301370  0.043338  0.800000  0.02174  0.0  0.397959  0.0  0.0  0.0  0.0   \n",
       "1  0.452055  0.047277  0.800000  0.00000  0.0  0.122449  0.0  0.0  0.0  0.0   \n",
       "2  0.287671  0.137244  0.533333  0.00000  0.0  0.397959  0.0  0.0  1.0  0.0   \n",
       "3  0.493151  0.150212  0.400000  0.00000  0.0  0.397959  0.0  0.0  1.0  0.0   \n",
       "4  0.150685  0.220703  0.800000  0.00000  0.0  0.397959  0.0  0.0  1.0  0.0   \n",
       "\n",
       "  ...   94   95   96   97   98   99   100  101  102  103  \n",
       "0 ...   0.0  0.0  0.0  0.0  0.0  0.0  0.0  1.0  0.0  0.0  \n",
       "1 ...   0.0  0.0  0.0  0.0  0.0  0.0  0.0  1.0  0.0  0.0  \n",
       "2 ...   0.0  0.0  0.0  0.0  0.0  0.0  0.0  1.0  0.0  0.0  \n",
       "3 ...   0.0  0.0  0.0  0.0  0.0  0.0  0.0  1.0  0.0  0.0  \n",
       "4 ...   0.0  0.0  0.0  0.0  0.0  0.0  0.0  0.0  0.0  0.0  \n",
       "\n",
       "[5 rows x 104 columns]"
      ]
     },
     "execution_count": 5,
     "metadata": {},
     "output_type": "execute_result"
    }
   ],
   "source": [
    "from sklearn.preprocessing import MinMaxScaler \n",
    "le=MinMaxScaler()\n",
    "X_train=le.fit_transform(X_train)\n",
    "X_test=le.fit_transform(X_test)\n",
    "pd.DataFrame(X_train).head(5)"
   ]
  },
  {
   "cell_type": "markdown",
   "metadata": {},
   "source": [
    "### 1.6 添加一列‘1’"
   ]
  },
  {
   "cell_type": "code",
   "execution_count": 6,
   "metadata": {
    "ExecuteTime": {
     "end_time": "2021-12-01T09:23:47.744570Z",
     "start_time": "2021-12-01T09:23:47.713626Z"
    },
    "collapsed": true
   },
   "outputs": [],
   "source": [
    "X_test=np.c_[np.ones(X_test.shape[0]),X_test]\n",
    "X_train=np.c_[np.ones(X_train.shape[0]),X_train]"
   ]
  },
  {
   "cell_type": "markdown",
   "metadata": {},
   "source": [
    "# 2 训练与测试"
   ]
  },
  {
   "cell_type": "markdown",
   "metadata": {},
   "source": [
    "### 定义逻辑函数："
   ]
  },
  {
   "cell_type": "code",
   "execution_count": 7,
   "metadata": {
    "ExecuteTime": {
     "end_time": "2021-12-01T09:23:48.994407Z",
     "start_time": "2021-12-01T09:23:48.980197Z"
    },
    "collapsed": true
   },
   "outputs": [],
   "source": [
    "def logit(x):\n",
    "    return 1./(1+np.exp(-x))"
   ]
  },
  {
   "cell_type": "markdown",
   "metadata": {},
   "source": [
    "### 2.1 梯度下降训练"
   ]
  },
  {
   "cell_type": "code",
   "execution_count": 8,
   "metadata": {
    "ExecuteTime": {
     "end_time": "2021-12-01T09:23:56.329612Z",
     "start_time": "2021-12-01T09:23:49.948220Z"
    },
    "collapsed": true
   },
   "outputs": [],
   "source": [
    "m,n=X_train.shape\n",
    "a=0.00065\n",
    "w=np.random.rand(n)\n",
    "for i in range(m):\n",
    "    loss=logit(np.dot(w.T,X_train[i]))-Y_train[i]\n",
    "    for j in range(n):\n",
    "        w[j]=w[j]-a*loss*X_train[i][j]"
   ]
  },
  {
   "cell_type": "markdown",
   "metadata": {},
   "source": [
    "### 2.2 测试"
   ]
  },
  {
   "cell_type": "code",
   "execution_count": 9,
   "metadata": {
    "ExecuteTime": {
     "end_time": "2021-12-01T09:23:58.947956Z",
     "start_time": "2021-12-01T09:23:58.914038Z"
    },
    "scrolled": true
   },
   "outputs": [
    {
     "data": {
      "text/html": [
       "<div>\n",
       "<style>\n",
       "    .dataframe thead tr:only-child th {\n",
       "        text-align: right;\n",
       "    }\n",
       "\n",
       "    .dataframe thead th {\n",
       "        text-align: left;\n",
       "    }\n",
       "\n",
       "    .dataframe tbody tr th {\n",
       "        vertical-align: top;\n",
       "    }\n",
       "</style>\n",
       "<table border=\"1\" class=\"dataframe\">\n",
       "  <thead>\n",
       "    <tr style=\"text-align: right;\">\n",
       "      <th></th>\n",
       "      <th>0</th>\n",
       "      <th>0</th>\n",
       "    </tr>\n",
       "  </thead>\n",
       "  <tbody>\n",
       "    <tr>\n",
       "      <th>0</th>\n",
       "      <td>0.097576</td>\n",
       "      <td>0</td>\n",
       "    </tr>\n",
       "    <tr>\n",
       "      <th>1</th>\n",
       "      <td>0.231875</td>\n",
       "      <td>0</td>\n",
       "    </tr>\n",
       "    <tr>\n",
       "      <th>2</th>\n",
       "      <td>0.572544</td>\n",
       "      <td>1</td>\n",
       "    </tr>\n",
       "    <tr>\n",
       "      <th>3</th>\n",
       "      <td>0.355911</td>\n",
       "      <td>1</td>\n",
       "    </tr>\n",
       "    <tr>\n",
       "      <th>4</th>\n",
       "      <td>0.042787</td>\n",
       "      <td>0</td>\n",
       "    </tr>\n",
       "    <tr>\n",
       "      <th>5</th>\n",
       "      <td>0.690184</td>\n",
       "      <td>1</td>\n",
       "    </tr>\n",
       "    <tr>\n",
       "      <th>6</th>\n",
       "      <td>0.044452</td>\n",
       "      <td>0</td>\n",
       "    </tr>\n",
       "    <tr>\n",
       "      <th>7</th>\n",
       "      <td>0.307291</td>\n",
       "      <td>0</td>\n",
       "    </tr>\n",
       "    <tr>\n",
       "      <th>8</th>\n",
       "      <td>0.329666</td>\n",
       "      <td>1</td>\n",
       "    </tr>\n",
       "    <tr>\n",
       "      <th>9</th>\n",
       "      <td>0.426747</td>\n",
       "      <td>0</td>\n",
       "    </tr>\n",
       "    <tr>\n",
       "      <th>10</th>\n",
       "      <td>0.019699</td>\n",
       "      <td>0</td>\n",
       "    </tr>\n",
       "    <tr>\n",
       "      <th>11</th>\n",
       "      <td>0.319032</td>\n",
       "      <td>1</td>\n",
       "    </tr>\n",
       "    <tr>\n",
       "      <th>12</th>\n",
       "      <td>0.610112</td>\n",
       "      <td>1</td>\n",
       "    </tr>\n",
       "    <tr>\n",
       "      <th>13</th>\n",
       "      <td>0.063373</td>\n",
       "      <td>0</td>\n",
       "    </tr>\n",
       "    <tr>\n",
       "      <th>14</th>\n",
       "      <td>0.171157</td>\n",
       "      <td>0</td>\n",
       "    </tr>\n",
       "    <tr>\n",
       "      <th>15</th>\n",
       "      <td>0.089441</td>\n",
       "      <td>0</td>\n",
       "    </tr>\n",
       "    <tr>\n",
       "      <th>16</th>\n",
       "      <td>0.472716</td>\n",
       "      <td>1</td>\n",
       "    </tr>\n",
       "    <tr>\n",
       "      <th>17</th>\n",
       "      <td>0.045807</td>\n",
       "      <td>0</td>\n",
       "    </tr>\n",
       "    <tr>\n",
       "      <th>18</th>\n",
       "      <td>0.189350</td>\n",
       "      <td>0</td>\n",
       "    </tr>\n",
       "    <tr>\n",
       "      <th>19</th>\n",
       "      <td>0.507830</td>\n",
       "      <td>0</td>\n",
       "    </tr>\n",
       "    <tr>\n",
       "      <th>20</th>\n",
       "      <td>0.392779</td>\n",
       "      <td>1</td>\n",
       "    </tr>\n",
       "    <tr>\n",
       "      <th>21</th>\n",
       "      <td>0.028282</td>\n",
       "      <td>0</td>\n",
       "    </tr>\n",
       "    <tr>\n",
       "      <th>22</th>\n",
       "      <td>0.206534</td>\n",
       "      <td>0</td>\n",
       "    </tr>\n",
       "    <tr>\n",
       "      <th>23</th>\n",
       "      <td>0.262240</td>\n",
       "      <td>0</td>\n",
       "    </tr>\n",
       "    <tr>\n",
       "      <th>24</th>\n",
       "      <td>0.070916</td>\n",
       "      <td>0</td>\n",
       "    </tr>\n",
       "    <tr>\n",
       "      <th>25</th>\n",
       "      <td>0.634595</td>\n",
       "      <td>1</td>\n",
       "    </tr>\n",
       "    <tr>\n",
       "      <th>26</th>\n",
       "      <td>0.212238</td>\n",
       "      <td>0</td>\n",
       "    </tr>\n",
       "    <tr>\n",
       "      <th>27</th>\n",
       "      <td>0.096361</td>\n",
       "      <td>0</td>\n",
       "    </tr>\n",
       "    <tr>\n",
       "      <th>28</th>\n",
       "      <td>0.415856</td>\n",
       "      <td>0</td>\n",
       "    </tr>\n",
       "    <tr>\n",
       "      <th>29</th>\n",
       "      <td>0.142477</td>\n",
       "      <td>0</td>\n",
       "    </tr>\n",
       "    <tr>\n",
       "      <th>...</th>\n",
       "      <td>...</td>\n",
       "      <td>...</td>\n",
       "    </tr>\n",
       "    <tr>\n",
       "      <th>15030</th>\n",
       "      <td>0.104554</td>\n",
       "      <td>0</td>\n",
       "    </tr>\n",
       "    <tr>\n",
       "      <th>15031</th>\n",
       "      <td>0.037934</td>\n",
       "      <td>0</td>\n",
       "    </tr>\n",
       "    <tr>\n",
       "      <th>15032</th>\n",
       "      <td>0.737988</td>\n",
       "      <td>1</td>\n",
       "    </tr>\n",
       "    <tr>\n",
       "      <th>15033</th>\n",
       "      <td>0.572081</td>\n",
       "      <td>1</td>\n",
       "    </tr>\n",
       "    <tr>\n",
       "      <th>15034</th>\n",
       "      <td>0.084045</td>\n",
       "      <td>0</td>\n",
       "    </tr>\n",
       "    <tr>\n",
       "      <th>15035</th>\n",
       "      <td>0.536536</td>\n",
       "      <td>1</td>\n",
       "    </tr>\n",
       "    <tr>\n",
       "      <th>15036</th>\n",
       "      <td>0.734404</td>\n",
       "      <td>1</td>\n",
       "    </tr>\n",
       "    <tr>\n",
       "      <th>15037</th>\n",
       "      <td>0.040294</td>\n",
       "      <td>0</td>\n",
       "    </tr>\n",
       "    <tr>\n",
       "      <th>15038</th>\n",
       "      <td>0.224808</td>\n",
       "      <td>0</td>\n",
       "    </tr>\n",
       "    <tr>\n",
       "      <th>15039</th>\n",
       "      <td>0.294941</td>\n",
       "      <td>0</td>\n",
       "    </tr>\n",
       "    <tr>\n",
       "      <th>15040</th>\n",
       "      <td>0.202531</td>\n",
       "      <td>0</td>\n",
       "    </tr>\n",
       "    <tr>\n",
       "      <th>15041</th>\n",
       "      <td>0.031676</td>\n",
       "      <td>0</td>\n",
       "    </tr>\n",
       "    <tr>\n",
       "      <th>15042</th>\n",
       "      <td>0.610437</td>\n",
       "      <td>1</td>\n",
       "    </tr>\n",
       "    <tr>\n",
       "      <th>15043</th>\n",
       "      <td>0.259397</td>\n",
       "      <td>0</td>\n",
       "    </tr>\n",
       "    <tr>\n",
       "      <th>15044</th>\n",
       "      <td>0.030930</td>\n",
       "      <td>0</td>\n",
       "    </tr>\n",
       "    <tr>\n",
       "      <th>15045</th>\n",
       "      <td>0.091855</td>\n",
       "      <td>0</td>\n",
       "    </tr>\n",
       "    <tr>\n",
       "      <th>15046</th>\n",
       "      <td>0.096815</td>\n",
       "      <td>0</td>\n",
       "    </tr>\n",
       "    <tr>\n",
       "      <th>15047</th>\n",
       "      <td>0.103365</td>\n",
       "      <td>0</td>\n",
       "    </tr>\n",
       "    <tr>\n",
       "      <th>15048</th>\n",
       "      <td>0.179436</td>\n",
       "      <td>0</td>\n",
       "    </tr>\n",
       "    <tr>\n",
       "      <th>15049</th>\n",
       "      <td>0.276183</td>\n",
       "      <td>0</td>\n",
       "    </tr>\n",
       "    <tr>\n",
       "      <th>15050</th>\n",
       "      <td>0.238979</td>\n",
       "      <td>0</td>\n",
       "    </tr>\n",
       "    <tr>\n",
       "      <th>15051</th>\n",
       "      <td>0.334371</td>\n",
       "      <td>0</td>\n",
       "    </tr>\n",
       "    <tr>\n",
       "      <th>15052</th>\n",
       "      <td>0.268415</td>\n",
       "      <td>0</td>\n",
       "    </tr>\n",
       "    <tr>\n",
       "      <th>15053</th>\n",
       "      <td>0.035793</td>\n",
       "      <td>0</td>\n",
       "    </tr>\n",
       "    <tr>\n",
       "      <th>15054</th>\n",
       "      <td>0.225554</td>\n",
       "      <td>0</td>\n",
       "    </tr>\n",
       "    <tr>\n",
       "      <th>15055</th>\n",
       "      <td>0.117136</td>\n",
       "      <td>0</td>\n",
       "    </tr>\n",
       "    <tr>\n",
       "      <th>15056</th>\n",
       "      <td>0.147298</td>\n",
       "      <td>0</td>\n",
       "    </tr>\n",
       "    <tr>\n",
       "      <th>15057</th>\n",
       "      <td>0.557547</td>\n",
       "      <td>0</td>\n",
       "    </tr>\n",
       "    <tr>\n",
       "      <th>15058</th>\n",
       "      <td>0.287551</td>\n",
       "      <td>0</td>\n",
       "    </tr>\n",
       "    <tr>\n",
       "      <th>15059</th>\n",
       "      <td>0.765772</td>\n",
       "      <td>1</td>\n",
       "    </tr>\n",
       "  </tbody>\n",
       "</table>\n",
       "<p>15060 rows × 2 columns</p>\n",
       "</div>"
      ],
      "text/plain": [
       "              0  0\n",
       "0      0.097576  0\n",
       "1      0.231875  0\n",
       "2      0.572544  1\n",
       "3      0.355911  1\n",
       "4      0.042787  0\n",
       "5      0.690184  1\n",
       "6      0.044452  0\n",
       "7      0.307291  0\n",
       "8      0.329666  1\n",
       "9      0.426747  0\n",
       "10     0.019699  0\n",
       "11     0.319032  1\n",
       "12     0.610112  1\n",
       "13     0.063373  0\n",
       "14     0.171157  0\n",
       "15     0.089441  0\n",
       "16     0.472716  1\n",
       "17     0.045807  0\n",
       "18     0.189350  0\n",
       "19     0.507830  0\n",
       "20     0.392779  1\n",
       "21     0.028282  0\n",
       "22     0.206534  0\n",
       "23     0.262240  0\n",
       "24     0.070916  0\n",
       "25     0.634595  1\n",
       "26     0.212238  0\n",
       "27     0.096361  0\n",
       "28     0.415856  0\n",
       "29     0.142477  0\n",
       "...         ... ..\n",
       "15030  0.104554  0\n",
       "15031  0.037934  0\n",
       "15032  0.737988  1\n",
       "15033  0.572081  1\n",
       "15034  0.084045  0\n",
       "15035  0.536536  1\n",
       "15036  0.734404  1\n",
       "15037  0.040294  0\n",
       "15038  0.224808  0\n",
       "15039  0.294941  0\n",
       "15040  0.202531  0\n",
       "15041  0.031676  0\n",
       "15042  0.610437  1\n",
       "15043  0.259397  0\n",
       "15044  0.030930  0\n",
       "15045  0.091855  0\n",
       "15046  0.096815  0\n",
       "15047  0.103365  0\n",
       "15048  0.179436  0\n",
       "15049  0.276183  0\n",
       "15050  0.238979  0\n",
       "15051  0.334371  0\n",
       "15052  0.268415  0\n",
       "15053  0.035793  0\n",
       "15054  0.225554  0\n",
       "15055  0.117136  0\n",
       "15056  0.147298  0\n",
       "15057  0.557547  0\n",
       "15058  0.287551  0\n",
       "15059  0.765772  1\n",
       "\n",
       "[15060 rows x 2 columns]"
      ]
     },
     "execution_count": 9,
     "metadata": {},
     "output_type": "execute_result"
    }
   ],
   "source": [
    "Y_predict=np.dot(X_test,w)\n",
    "Y_predict=logit(Y_predict)\n",
    "pd.concat([pd.DataFrame(Y_predict),pd.DataFrame(Y_test)],axis=1)"
   ]
  },
  {
   "cell_type": "markdown",
   "metadata": {},
   "source": [
    "### 2.3 评估结果\n",
    "##### 2.3.1 求roc_auc_score"
   ]
  },
  {
   "cell_type": "code",
   "execution_count": 11,
   "metadata": {
    "ExecuteTime": {
     "end_time": "2021-12-01T09:24:00.889531Z",
     "start_time": "2021-12-01T09:24:00.796720Z"
    }
   },
   "outputs": [
    {
     "name": "stdout",
     "output_type": "stream",
     "text": [
      "逻辑回归roc值： 0.8193512204986677\n"
     ]
    }
   ],
   "source": [
    "from sklearn.metrics import roc_curve\n",
    "from sklearn.metrics import roc_auc_score\n",
    "from sklearn.metrics import auc\n",
    "#roc_auc=roc_auc_score(Y_test,Y_predict)\n",
    "fpr, tpr, thersholds=roc_curve(Y_test,Y_predict)\n",
    "roc_auc=auc(fpr,tpr)\n",
    "print(\"逻辑回归roc值：\",roc_auc)"
   ]
  },
  {
   "cell_type": "markdown",
   "metadata": {},
   "source": [
    "##### 2.3.2 绘制roc曲线"
   ]
  },
  {
   "cell_type": "markdown",
   "metadata": {},
   "source": [
    "w=np.random.rand(n)\n",
    "a=0.005\n",
    "for iter in range(100):\n",
    "    for j in range(n):\n",
    "        sum=0\n",
    "        for i in range(m):\n",
    "            sum=sum+(Y_train[i]-np.dot(w.T,X_train[i]))*X_train[i,j] \n",
    "        w[j]=w[j]+a*sum"
   ]
  },
  {
   "cell_type": "code",
   "execution_count": 13,
   "metadata": {
    "ExecuteTime": {
     "end_time": "2021-12-01T09:24:13.722623Z",
     "start_time": "2021-12-01T09:24:13.517631Z"
    },
    "scrolled": false
   },
   "outputs": [
    {
     "data": {
      "image/png": "[encoded data removed]",
      "text/plain": [
       "<matplotlib.figure.Figure at 0x22fc7f63710>"
      ]
     },
     "metadata": {},
     "output_type": "display_data"
    }
   ],
   "source": [
    "import matplotlib.pyplot as plt\n",
    "plt.plot(fpr, tpr,label='ROC={0:.2f}'.format(roc_auc))\n",
    "plt.xlim([-0.1, 1.1])  # 设置x、y轴的上下限，以免和边缘重合，更好的观察图像的整体\n",
    "plt.ylim([-0.1, 1.1])\n",
    "plt.xlabel('False Positive Rate')\n",
    "plt.ylabel('True Positive Rate')  \n",
    "plt.title('ROC Curve')\n",
    "plt.legend(loc=\"lower right\")\n",
    "plt.show()"
   ]
  },
  {
   "cell_type": "markdown",
   "metadata": {},
   "source": [
    "##### 2.3.2 计算准确率"
   ]
  },
  {
   "cell_type": "code",
   "execution_count": 14,
   "metadata": {
    "ExecuteTime": {
     "end_time": "2021-12-01T09:24:18.561498Z",
     "start_time": "2021-12-01T09:24:18.475578Z"
    }
   },
   "outputs": [
    {
     "name": "stdout",
     "output_type": "stream",
     "text": [
      "逻辑回归正确率为： 0.7873173970783532\n"
     ]
    }
   ],
   "source": [
    "\n",
    "for i in range(len(Y_predict)):\n",
    "    if Y_predict[i]>0.5:\n",
    "        Y_predict[i]=1\n",
    "    else:\n",
    "        Y_predict[i]=0    \n",
    "right=0\n",
    "for i in range(len(Y_test)):\n",
    "    if Y_test[i]==Y_predict[i]:\n",
    "         right+=1\n",
    "score=right/len(Y_test)\n",
    "print(\"逻辑回归正确率为：\",score)"
   ]
  },
  {
   "cell_type": "markdown",
   "metadata": {
    "collapsed": true
   },
   "source": [
    "---\n",
    "\n",
    "# 二、朴素贝叶斯\n",
    "* 连续型变量用高斯密度函数估计概率\n",
    "* 离散变量的条件概率分布估计"
   ]
  },
  {
   "cell_type": "markdown",
   "metadata": {},
   "source": [
    "## 1 处理数据集"
   ]
  },
  {
   "cell_type": "markdown",
   "metadata": {
    "ExecuteTime": {
     "end_time": "2021-11-21T12:07:30.755861Z",
     "start_time": "2021-11-21T12:07:30.739906Z"
    }
   },
   "source": [
    "###  1.1 导入数据"
   ]
  },
  {
   "cell_type": "code",
   "execution_count": 12,
   "metadata": {
    "ExecuteTime": {
     "end_time": "2021-11-25T06:34:58.056153Z",
     "start_time": "2021-11-25T06:34:57.441188Z"
    },
    "scrolled": false
   },
   "outputs": [
    {
     "data": {
      "text/html": [
       "<div>\n",
       "<style>\n",
       "    .dataframe thead tr:only-child th {\n",
       "        text-align: right;\n",
       "    }\n",
       "\n",
       "    .dataframe thead th {\n",
       "        text-align: left;\n",
       "    }\n",
       "\n",
       "    .dataframe tbody tr th {\n",
       "        vertical-align: top;\n",
       "    }\n",
       "</style>\n",
       "<table border=\"1\" class=\"dataframe\">\n",
       "  <thead>\n",
       "    <tr style=\"text-align: right;\">\n",
       "      <th></th>\n",
       "      <th>age</th>\n",
       "      <th>workclass</th>\n",
       "      <th>fnlwgt</th>\n",
       "      <th>education</th>\n",
       "      <th>education_num</th>\n",
       "      <th>marital-status</th>\n",
       "      <th>occupation</th>\n",
       "      <th>relationship</th>\n",
       "      <th>race</th>\n",
       "      <th>sex</th>\n",
       "      <th>capital-gain</th>\n",
       "      <th>capital-loss</th>\n",
       "      <th>hours-per-week</th>\n",
       "      <th>native-country</th>\n",
       "      <th>income</th>\n",
       "    </tr>\n",
       "  </thead>\n",
       "  <tbody>\n",
       "    <tr>\n",
       "      <th>0</th>\n",
       "      <td>39</td>\n",
       "      <td>State-gov</td>\n",
       "      <td>77516</td>\n",
       "      <td>Bachelors</td>\n",
       "      <td>13</td>\n",
       "      <td>Never-married</td>\n",
       "      <td>Adm-clerical</td>\n",
       "      <td>Not-in-family</td>\n",
       "      <td>White</td>\n",
       "      <td>Male</td>\n",
       "      <td>2174</td>\n",
       "      <td>0</td>\n",
       "      <td>40</td>\n",
       "      <td>United-States</td>\n",
       "      <td>&lt;=50K</td>\n",
       "    </tr>\n",
       "    <tr>\n",
       "      <th>1</th>\n",
       "      <td>50</td>\n",
       "      <td>Self-emp-not-inc</td>\n",
       "      <td>83311</td>\n",
       "      <td>Bachelors</td>\n",
       "      <td>13</td>\n",
       "      <td>Married-civ-spouse</td>\n",
       "      <td>Exec-managerial</td>\n",
       "      <td>Husband</td>\n",
       "      <td>White</td>\n",
       "      <td>Male</td>\n",
       "      <td>0</td>\n",
       "      <td>0</td>\n",
       "      <td>13</td>\n",
       "      <td>United-States</td>\n",
       "      <td>&lt;=50K</td>\n",
       "    </tr>\n",
       "    <tr>\n",
       "      <th>2</th>\n",
       "      <td>38</td>\n",
       "      <td>Private</td>\n",
       "      <td>215646</td>\n",
       "      <td>HS-grad</td>\n",
       "      <td>9</td>\n",
       "      <td>Divorced</td>\n",
       "      <td>Handlers-cleaners</td>\n",
       "      <td>Not-in-family</td>\n",
       "      <td>White</td>\n",
       "      <td>Male</td>\n",
       "      <td>0</td>\n",
       "      <td>0</td>\n",
       "      <td>40</td>\n",
       "      <td>United-States</td>\n",
       "      <td>&lt;=50K</td>\n",
       "    </tr>\n",
       "    <tr>\n",
       "      <th>3</th>\n",
       "      <td>53</td>\n",
       "      <td>Private</td>\n",
       "      <td>234721</td>\n",
       "      <td>11th</td>\n",
       "      <td>7</td>\n",
       "      <td>Married-civ-spouse</td>\n",
       "      <td>Handlers-cleaners</td>\n",
       "      <td>Husband</td>\n",
       "      <td>Black</td>\n",
       "      <td>Male</td>\n",
       "      <td>0</td>\n",
       "      <td>0</td>\n",
       "      <td>40</td>\n",
       "      <td>United-States</td>\n",
       "      <td>&lt;=50K</td>\n",
       "    </tr>\n",
       "    <tr>\n",
       "      <th>4</th>\n",
       "      <td>28</td>\n",
       "      <td>Private</td>\n",
       "      <td>338409</td>\n",
       "      <td>Bachelors</td>\n",
       "      <td>13</td>\n",
       "      <td>Married-civ-spouse</td>\n",
       "      <td>Prof-specialty</td>\n",
       "      <td>Wife</td>\n",
       "      <td>Black</td>\n",
       "      <td>Female</td>\n",
       "      <td>0</td>\n",
       "      <td>0</td>\n",
       "      <td>40</td>\n",
       "      <td>Cuba</td>\n",
       "      <td>&lt;=50K</td>\n",
       "    </tr>\n",
       "  </tbody>\n",
       "</table>\n",
       "</div>"
      ],
      "text/plain": [
       "   age          workclass  fnlwgt   education  education_num  \\\n",
       "0   39          State-gov   77516   Bachelors             13   \n",
       "1   50   Self-emp-not-inc   83311   Bachelors             13   \n",
       "2   38            Private  215646     HS-grad              9   \n",
       "3   53            Private  234721        11th              7   \n",
       "4   28            Private  338409   Bachelors             13   \n",
       "\n",
       "        marital-status          occupation    relationship    race      sex  \\\n",
       "0        Never-married        Adm-clerical   Not-in-family   White     Male   \n",
       "1   Married-civ-spouse     Exec-managerial         Husband   White     Male   \n",
       "2             Divorced   Handlers-cleaners   Not-in-family   White     Male   \n",
       "3   Married-civ-spouse   Handlers-cleaners         Husband   Black     Male   \n",
       "4   Married-civ-spouse      Prof-specialty            Wife   Black   Female   \n",
       "\n",
       "   capital-gain  capital-loss  hours-per-week  native-country  income  \n",
       "0          2174             0              40   United-States   <=50K  \n",
       "1             0             0              13   United-States   <=50K  \n",
       "2             0             0              40   United-States   <=50K  \n",
       "3             0             0              40   United-States   <=50K  \n",
       "4             0             0              40            Cuba   <=50K  "
      ]
     },
     "execution_count": 12,
     "metadata": {},
     "output_type": "execute_result"
    }
   ],
   "source": [
    "import pandas as pd\n",
    "import numpy as np\n",
    "train=pd.read_csv(r\"E:/ML/logistic/adult.data\",header=None,na_values=' ?')\n",
    "test=pd.read_csv(r\"E:/ML/logistic/adult.test\",header=None,na_values=' ?')\n",
    "name=['age','workclass','fnlwgt','education','education_num','marital-status','occupation','relationship','race','sex','capital-gain','capital-loss','hours-per-week','native-country',\"income\"]\n",
    "train.columns=name\n",
    "test.columns=name\n",
    "train.head()"
   ]
  },
  {
   "cell_type": "markdown",
   "metadata": {},
   "source": [
    "### 1.2 处理空值"
   ]
  },
  {
   "cell_type": "code",
   "execution_count": 13,
   "metadata": {
    "ExecuteTime": {
     "end_time": "2021-11-25T06:34:59.288179Z",
     "start_time": "2021-11-25T06:34:59.167036Z"
    },
    "collapsed": true,
    "scrolled": true
   },
   "outputs": [],
   "source": [
    "#查看空值行概览\n",
    "test.isnull().sum()\n",
    "train.isnull().sum()\n",
    "\n",
    "#查看空值行的信息\n",
    "test[(test['occupation'].isnull().values==True)|(test['workclass'].isnull().values==True)|(test['native-country'].isnull().values==True)]\n",
    "train[(train['occupation'].isnull().values==True)|(train['workclass'].isnull().values==True)|(train['native-country'].isnull().values==True)]\n",
    "test = test.reset_index(drop=True)\n",
    "train = train.reset_index(drop=True)\n",
    "\n",
    "#删除空值行\n",
    "test=test.dropna(axis=0)\n",
    "train=train.dropna(axis=0)"
   ]
  },
  {
   "cell_type": "markdown",
   "metadata": {},
   "source": [
    "###  1.3 获取X,Y"
   ]
  },
  {
   "cell_type": "code",
   "execution_count": 14,
   "metadata": {
    "ExecuteTime": {
     "end_time": "2021-11-25T06:35:00.382796Z",
     "start_time": "2021-11-25T06:35:00.317946Z"
    },
    "collapsed": true
   },
   "outputs": [],
   "source": [
    "# y训练集 这里设置为二值\n",
    "y_train=train['income']\n",
    "y_train=pd.Series(np.where(y_train==' <=50K',0,1))\n",
    "\n",
    "#x训练集集 这里将不同class的x_train分别存储\n",
    "x_train0=train.loc[train['income']==' <=50K'].drop('income',axis=1)\n",
    "x_train1=train.loc[train['income']==' >50K'].drop('income',axis=1)\n",
    "\n",
    "#测试集\n",
    "x_test=test.iloc[:,:-1]                                         \n",
    "y_test=test['income']                      \n",
    "y_test=np.where(y_test==' >50K.',1,0)            "
   ]
  },
  {
   "cell_type": "markdown",
   "metadata": {},
   "source": [
    "## 2 训练：实现需要的函数\n",
    "* 计算不同类别的先验概率\n",
    "* 计算不同类别的连续变量的标准差，均值\n",
    "* 计算不同类别的离散变量的类条件概率\n",
    "* 测试函数"
   ]
  },
  {
   "cell_type": "markdown",
   "metadata": {
    "ExecuteTime": {
     "end_time": "2021-11-21T16:36:29.053275Z",
     "start_time": "2021-11-21T16:36:29.037346Z"
    }
   },
   "source": [
    "### 2.1 计算不同类别的先验概率\n",
    "*输入：y训练集*  \n",
    "*返回：数组y_prior。*   \n",
    "*y_prior[0]为class0的y先验概率*"
   ]
  },
  {
   "cell_type": "code",
   "execution_count": 15,
   "metadata": {
    "ExecuteTime": {
     "end_time": "2021-11-25T06:35:02.048013Z",
     "start_time": "2021-11-25T06:35:02.031648Z"
    },
    "collapsed": true
   },
   "outputs": [],
   "source": [
    "def prior_by_class(y_train):\n",
    "    '''\n",
    "    计算两个类别的先验概率\n",
    "    返回数组，y_prior[0]为0类别的先验概率\n",
    "    '''\n",
    "    y_prior=np.zeros(2)\n",
    "    for i in range(len(y_train)):\n",
    "        y_prior[y_train[i]]+=1\n",
    "    y_prior=y_prior/len(y_train)\n",
    "    return y_prior"
   ]
  },
  {
   "cell_type": "markdown",
   "metadata": {},
   "source": [
    "### 2.2 计算不同类别的连续变量的标准差，均值\n",
    "*参数：x_train，为某一class的训练集。*  \n",
    "*返回：这个class的字典class_mean_std。*  \n",
    "*(keys,values)为<特征名，数组>。数组[0]为该特征的mean，数组[1]为该特征的std*"
   ]
  },
  {
   "cell_type": "code",
   "execution_count": 16,
   "metadata": {
    "ExecuteTime": {
     "end_time": "2021-11-25T05:57:17.055738Z",
     "start_time": "2021-11-25T05:57:17.035402Z"
    },
    "collapsed": true
   },
   "outputs": [],
   "source": [
    "def mean_std(x_train):\n",
    "    '''\n",
    "    x_train为某class类的训练集\n",
    "    计算一个类别中连续变量的均值和方差\n",
    "    返回字典class_mean_std。<keys,values>为<特征名，数组>。数组[0]为该特征的mean，数组[1]为该特征的std\n",
    "    '''\n",
    "    #获取连续变量的列名\n",
    "    int_col=train.dtypes=='int64'\n",
    "    int_col=list(int_col[int_col].index)\n",
    "    class_mean_std={}\n",
    "    #计算第i列的mean和std\n",
    "    for i in int_col:\n",
    "        vector=[]\n",
    "        vector.append(np.mean(train[i]))\n",
    "        vector.append(np.std(train[i]))\n",
    "        class_mean_std[i]=vector\n",
    "    return class_mean_std\n"
   ]
  },
  {
   "cell_type": "markdown",
   "metadata": {},
   "source": [
    "### 2.3 计算不同类别的离散变量的类条件概率\n",
    "*参数：某一class的训练集,type为DataFrame  \n",
    "返回：字典class_feature  \n",
    "class_feature的\\<keys,values>为<特征的列名,feature字典>   \n",
    "feature\\<keys,values>为<特征的值,类条件概率> \n",
    "*"
   ]
  },
  {
   "cell_type": "code",
   "execution_count": 17,
   "metadata": {
    "ExecuteTime": {
     "end_time": "2021-11-25T05:57:18.673467Z",
     "start_time": "2021-11-25T05:57:18.622888Z"
    },
    "collapsed": true
   },
   "outputs": [],
   "source": [
    "def posterior_by_class(x_train):\n",
    "    #获取离散变量的列名\n",
    "    obj_col=x_train.dtypes=='object'\n",
    "    obj_col=list(obj_col[obj_col].index)\n",
    "    class_feature={}\n",
    "    \n",
    "    #获取样本个数\n",
    "    m=len(x_train)\n",
    "    \n",
    "    #求第i个特征列的各特征值的类条件概率\n",
    "    for i in obj_col:\n",
    "        #求第i个特征列的特征值的所有种类\n",
    "        feature_name=x_train[i].value_counts().index\n",
    "        feature={}\n",
    "        \n",
    "        #这里的三个循环分别是：初始化字典特征对应数量为0；扫描样本计算各特征值的样本数；计算各特征值的类条件概率\n",
    "        for name in feature_name:\n",
    "            feature[name]=0\n",
    "        for j in range(m):\n",
    "            feature[x_train[i].iloc[j]]+=1\n",
    "        for name in feature_name:\n",
    "            feature[name]=(feature[name]+1)/(m+len(feature))#拉普拉斯平滑\n",
    "         #增加一个索引'unkown'，当初训练集出现未知类型时，拉普拉斯平滑(1/K)。\n",
    "        feature['unknow']=1/len(feature)                      \n",
    "        class_feature[i]=feature\n",
    "    return class_feature"
   ]
  },
  {
   "cell_type": "markdown",
   "metadata": {},
   "source": [
    "### 2.4 代入函数，训练得到参数"
   ]
  },
  {
   "cell_type": "code",
   "execution_count": 18,
   "metadata": {
    "ExecuteTime": {
     "end_time": "2021-11-25T05:57:28.784230Z",
     "start_time": "2021-11-25T05:57:19.671379Z"
    },
    "collapsed": true,
    "scrolled": true
   },
   "outputs": [],
   "source": [
    "#先验概率\n",
    "y_prior=prior_by_class(y_train)\n",
    "#两类的连续变量的mean，std\n",
    "class0_mean_std=mean_std(x_train0)\n",
    "class1_mean_std=mean_std(x_train1)\n",
    "#两类的离散变量的类条件概率\n",
    "class0_posterior=posterior_by_class(x_train0)\n",
    "class1_posterior=posterior_by_class(x_train1)"
   ]
  },
  {
   "cell_type": "markdown",
   "metadata": {},
   "source": [
    "## 3 测试"
   ]
  },
  {
   "cell_type": "markdown",
   "metadata": {},
   "source": [
    "### 3.1实现测试函数"
   ]
  },
  {
   "cell_type": "code",
   "execution_count": null,
   "metadata": {
    "ExecuteTime": {
     "end_time": "2021-11-25T05:57:31.765229Z",
     "start_time": "2021-11-25T05:57:31.684214Z"
    },
    "collapsed": true
   },
   "outputs": [],
   "source": [
    "from scipy import stats\n",
    "#预测函数的参数即为上面函数求得的返回值\n",
    "def get_pridict(x_test,y_prior,class0_mean_std,class1_mean_std,class0_posterior,class1_posterior):\n",
    "    '''\n",
    "    计算class0和class1的概率\n",
    "    较大概率类即为预测\n",
    "    '''\n",
    "    #样本个数\n",
    "    m=len(x_test)\n",
    "    y_predict=[]\n",
    "    #特征的列名\n",
    "    feature_name=x_test.columns\n",
    "    for i in range(m):\n",
    "        #预测概率初始化为先验概率\n",
    "        class0=y_prior[0]\n",
    "        class1=y_prior[1]\n",
    "        #遍历单个样本的特征\n",
    "        for name in feature_name:\n",
    "            if x_test[name].dtype=='object':#如果为离散变量，计算类条件概率\n",
    "            \n",
    "                if x_test[name].iloc[i] in class0_posterior[name]:\n",
    "                    class0*=class0_posterior[name][x_test[name].iloc[i]]\n",
    "                else : #触发else：预测特征的特征值未在类训练样本出现\n",
    "                    class0*=class0_posterior[name]['unknow']\n",
    "                if x_test[name].iloc[i] in class1_posterior[name]:\n",
    "                    class1*=class1_posterior[name][x_test[name].iloc[i]]\n",
    "                else: #触发else：预测特征的特征值未在类训练样本出现\n",
    "                    class1*=class1_posterior[name]['unknow']\n",
    "            else: #否则为连续变量，计算x的高斯密度分布\n",
    "                class0*=stats.norm.pdf(x_test[name].iloc[i],class0_mean_std[name][0],class0_mean_std[name][1])\n",
    "                class1*=stats.norm.pdf(x_test[name].iloc[i],class1_mean_std[name][0],class1_mean_std[name][1])\n",
    "        if class0>class1:\n",
    "            y_predict.append(0)\n",
    "        else:\n",
    "            y_predict.append(1)\n",
    "    return np.array(y_predict)"
   ]
  },
  {
   "cell_type": "markdown",
   "metadata": {},
   "source": [
    "### 3.2测试"
   ]
  },
  {
   "cell_type": "code",
   "execution_count": null,
   "metadata": {
    "ExecuteTime": {
     "end_time": "2021-11-25T05:59:00.106165Z",
     "start_time": "2021-11-25T05:57:32.371987Z"
    },
    "collapsed": true
   },
   "outputs": [],
   "source": [
    "y_predict=get_pridict(x_test,y_prior,class0_mean_std,class1_mean_std,class0_posterior,class1_posterior)"
   ]
  },
  {
   "cell_type": "markdown",
   "metadata": {},
   "source": [
    "## 4 AUC评估"
   ]
  },
  {
   "cell_type": "markdown",
   "metadata": {},
   "source": [
    "### 4.1 计算auc值"
   ]
  },
  {
   "cell_type": "code",
   "execution_count": null,
   "metadata": {
    "ExecuteTime": {
     "end_time": "2021-11-25T06:26:15.023950Z",
     "start_time": "2021-11-25T06:26:15.007148Z"
    }
   },
   "outputs": [],
   "source": [
    "from sklearn.metrics import roc_curve\n",
    "from sklearn.metrics import roc_auc_score\n",
    "from sklearn.metrics import auc\n",
    "#roc_auc=roc_auc_score(Y_test,Y_predict)\n",
    "fpr, tpr, thersholds=roc_curve(y_test,y_predict)\n",
    "roc_auc=auc(fpr,tpr)\n",
    "print(\"luo\")"
   ]
  },
  {
   "cell_type": "markdown",
   "metadata": {},
   "source": [
    "### 4.2 绘制roc曲线"
   ]
  },
  {
   "cell_type": "markdown",
   "metadata": {},
   "source": [
    "##### 注：此处roc图绘错了"
   ]
  },
  {
   "cell_type": "code",
   "execution_count": null,
   "metadata": {
    "ExecuteTime": {
     "end_time": "2021-11-25T06:26:16.153063Z",
     "start_time": "2021-11-25T06:26:15.864985Z"
    },
    "scrolled": false
   },
   "outputs": [],
   "source": [
    "import matplotlib.pyplot as plt\n",
    "plt.plot(fpr, tpr,label='auc={0:.2f}'.format(roc_auc))\n",
    "plt.xlim([0., 1.0])  # 可设置x、y轴的上下限，以免和边缘重合，更好的观察图像的整体\n",
    "plt.ylim([0., 1.0])\n",
    "plt.xlabel('False Positive Rate')\n",
    "plt.ylabel('True Positive Rate')  \n",
    "plt.title('ROC Curve')\n",
    "plt.legend(loc=\"lower right\")\n",
    "plt.show()"
   ]
  },
  {
   "cell_type": "markdown",
   "metadata": {},
   "source": [
    "### 4.3 计算准确率"
   ]
  },
  {
   "cell_type": "code",
   "execution_count": null,
   "metadata": {
    "ExecuteTime": {
     "end_time": "2021-11-25T06:26:19.878810Z",
     "start_time": "2021-11-25T06:26:19.833464Z"
    }
   },
   "outputs": [],
   "source": [
    "right=0\n",
    "for i in range(len(y_predict)):\n",
    "    if y_predict[i]==Y_test[i]:\n",
    "        right+=1\n",
    "score=right/len(y_predict)        \n",
    "print(\"朴素贝叶斯正确率：\",score)"
   ]
  },
  {
   "cell_type": "code",
   "execution_count": null,
   "metadata": {
    "collapsed": true
   },
   "outputs": [],
   "source": []
  }
 ],
 "metadata": {
  "kernelspec": {
   "display_name": "py3.6",
   "language": "python",
   "name": "py3.6"
  },
  "language_info": {
   "codemirror_mode": {
    "name": "ipython",
    "version": 3
   },
   "file_extension": ".py",
   "mimetype": "text/x-python",
   "name": "python",
   "nbconvert_exporter": "python",
   "pygments_lexer": "ipython3",
   "version": "3.6.2"
  }
 },
 "nbformat": 4,
 "nbformat_minor": 2
}
